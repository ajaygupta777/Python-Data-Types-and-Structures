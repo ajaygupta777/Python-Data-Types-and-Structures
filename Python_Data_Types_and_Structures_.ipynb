{
  "nbformat": 4,
  "nbformat_minor": 0,
  "metadata": {
    "colab": {
      "provenance": [],
      "authorship_tag": "ABX9TyNL7xl5wWGWG6XaXPTwzmQ8",
      "include_colab_link": true
    },
    "kernelspec": {
      "name": "python3",
      "display_name": "Python 3"
    },
    "language_info": {
      "name": "python"
    }
  },
  "cells": [
    {
      "cell_type": "markdown",
      "metadata": {
        "id": "view-in-github",
        "colab_type": "text"
      },
      "source": [
        "<a href=\"https://colab.research.google.com/github/ajaygupta777/Python-Data-Types-and-Structures/blob/main/Python_Data_Types_and_Structures_.ipynb\" target=\"_parent\"><img src=\"https://colab.research.google.com/assets/colab-badge.svg\" alt=\"Open In Colab\"/></a>"
      ]
    },
    {
      "cell_type": "markdown",
      "source": [
        "Name: Ajay Kumar Gupta"
      ],
      "metadata": {
        "id": "C5ssKHLyCbK3"
      }
    },
    {
      "cell_type": "markdown",
      "source": [
        "Assignment 2: Python Data Types and Structures"
      ],
      "metadata": {
        "id": "PJXf1QGlC2MD"
      }
    },
    {
      "cell_type": "markdown",
      "source": [
        "1. What are data structures, and why are they important?\n",
        "- Data structures are specialized ways of organizing and storing data in a computer so that it can be used efficiently. They are the building blocks for efficient algorithms and programs. Think of them as containers that hold data in a specific arrangement, making it easier to access, manage, and modify.\n",
        "\n",
        "Why are Data Structures Important?\n",
        "\n",
        "Efficiency: Data structures help optimize the way data is stored and retrieved. This is essential for building high-performance applications. For example, using the right data structure can dramatically speed up search or sorting operations.\n",
        "\n",
        "Organization: Data structures provide ways to organize data logically, making it easier to understand and manage complex datasets.\n",
        "\n",
        "Reusability: Well-defined data structures can be reused in different parts of a program, saving time and effort.\n",
        "\n",
        "Abstraction: They provide an abstract way of representing data, hiding the underlying implementation details from the programmer."
      ],
      "metadata": {
        "id": "dA7COKFGDRdY"
      }
    },
    {
      "cell_type": "markdown",
      "source": [
        "2. Explain the difference between mutable and immutable data types with examples.\n",
        "\n",
        "- Mutable Data Types:\n",
        "\n",
        "Definition: Mutable data types are those whose values can be changed after they are created. This means you can modify the internal state of the object without creating a new object.\n",
        "Examples:\n",
        "list\n",
        "dict (dictionary)\n",
        "set\n",
        "\n",
        "- Immutable Data Types:\n",
        "\n",
        "Definition: Immutable data types are those whose values cannot be changed after they are created. When you modify an immutable object, a new object is created with the modified value, leaving the original object unchanged.\n",
        "Examples:\n",
        "int (integer)\n",
        "float (floating-point number)\n",
        "str (string)\n",
        "tuple\n",
        "bool (boolean)\n"
      ],
      "metadata": {
        "id": "kqQ253ezDfmb"
      }
    },
    {
      "source": [
        "# Mutable Example (List)\n",
        "my_list = [11, 2, 23]\n",
        "my_list[0] = 5  # Modifying the list in-place\n",
        "print(my_list)  # Output: [5, 2, 23] - The original list is modified\n",
        "\n",
        "# Immutable Example (String)\n",
        "my_string = \"Ajay\"\n",
        "my_string += \"Gupta\"  # This creates a new string object\n",
        "print(my_string)  # Output: \"Ajay Gupta\"\n",
        "# The original \"Ajay\" string is unchanged; a new string is created"
      ],
      "cell_type": "code",
      "metadata": {
        "colab": {
          "base_uri": "https://localhost:8080/"
        },
        "id": "aZAdrGHTAmxA",
        "outputId": "e54bc2e2-e230-48af-e804-92e0443a8dde"
      },
      "execution_count": null,
      "outputs": [
        {
          "output_type": "stream",
          "name": "stdout",
          "text": [
            "[5, 2, 23]\n",
            "AjayGupta\n"
          ]
        }
      ]
    },
    {
      "cell_type": "markdown",
      "source": [
        "3. What are the main differences between lists and tuples in Python?\n",
        "- Mutability:\n",
        "\n",
        "- Lists: Mutable - You can change their contents (add, remove, or modify elements) after creation.\n",
        "Tuples: Immutable - Once created, you cannot change their contents.\n",
        "\n",
        "- Syntax:\n",
        "\n",
        "- Lists: Defined using square brackets []. For example: my_list = [1, 2, 3]\n",
        "Tuples: Defined using parentheses (). For example: my_tuple = (1, 2, 3)\n",
        "\n",
        "- Operations:\n",
        "\n",
        "- Lists: Have more built-in methods for modification (e.g., append, insert, remove).\n",
        "Tuples: Have fewer methods, primarily for accessing elements.\n",
        "\n",
        "- Use Cases:\n",
        "\n",
        "- Lists: When you need a collection that can be modified.\n",
        "Tuples: When you want to ensure data integrity and prevent accidental changes.\n",
        "Performance:\n",
        "\n",
        "- Tuples: Generally slightly faster for iteration and access due to their immutability.\n",
        "Lists: Might be more efficient for frequent modifications.\n"
      ],
      "metadata": {
        "id": "nvUNfsUQDg5p"
      }
    },
    {
      "cell_type": "markdown",
      "source": [
        "4. Describe how dictionaries store data.\n",
        "- Dictionaries store data using a key-value pair structure. This means that each item in a dictionary has two parts:\n",
        "\n",
        "- Key: The key is a unique identifier for a value in the dictionary. It must be an immutable data type (e.g., string, number, tuple).\n",
        "\n",
        "- Value: The value is the data associated with a particular key. It can be of any data type (mutable or immutable).\n",
        "\n",
        "- How it works internally:\n",
        "\n",
        "- Dictionaries use a hash table implementation. This allows for efficient lookups, insertions, and deletions of key-value pairs.\n",
        "\n",
        "- When you store a key-value pair in a dictionary, Python calculates a hash value for the key. This hash value is used to determine the location in the hash table where the value will be stored.\n",
        "\n",
        "- When you want to retrieve a value, you provide the key. Python calculates the hash value of the key again and uses it to quickly locate the value in the hash table.\n"
      ],
      "metadata": {
        "id": "jwOK0AC-DiYt"
      }
    },
    {
      "source": [
        "my_dict = {\"name\": \"Ajay\", \"age\": 21, \"city\": \"Pune \"}"
      ],
      "cell_type": "code",
      "metadata": {
        "id": "ZK4GBgMqNRPZ"
      },
      "execution_count": null,
      "outputs": []
    },
    {
      "cell_type": "markdown",
      "source": [
        "5. Why might you use a set instead of a list in Python?\n",
        "- Use a set when:\n",
        "\n",
        "You need to ensure data uniqueness.\n",
        "You frequently perform membership tests (in keyword).\n",
        "You need to use set operations (union, intersection, etc.).\n",
        "\n",
        "- Use a list when:\n",
        "\n",
        "You need to maintain the order of elements.\n",
        "You need to allow duplicate elements.\n",
        "You need to access elements by their index."
      ],
      "metadata": {
        "id": "WgbvAG4jDjpC"
      }
    },
    {
      "source": [
        "visitors = [\"user1\", \"user2\", \"user3\",\"user5\" \"user2\", \"user1\", \"user7\"]\n",
        "unique_visitors = set(visitors)  # Convert the list to a set to remove duplicates\n",
        "print(len(unique_visitors))  # Output: 5 (unique visitors)"
      ],
      "cell_type": "code",
      "metadata": {
        "colab": {
          "base_uri": "https://localhost:8080/"
        },
        "id": "ahxSURd5AWoY",
        "outputId": "a9a5a0e5-f7a8-499f-a37a-a565d521f542"
      },
      "execution_count": null,
      "outputs": [
        {
          "output_type": "stream",
          "name": "stdout",
          "text": [
            "5\n"
          ]
        }
      ]
    },
    {
      "cell_type": "markdown",
      "source": [
        "6. What is a string in Python, and how is it different from a list?\n",
        "- Different between strings and lists in Python :\n",
        "\n",
        "- String\n",
        "\n",
        "Definition: A string is a sequence of characters, such as letters, numbers, symbols, and whitespace, enclosed within single quotes ('...') or double quotes (\"...\"). It represents textual data.\n",
        "Immutability: Strings are immutable, meaning you cannot change their individual characters once they are created. Any operation that appears to modify a string actually creates a new string.\n",
        "Example: my_string = \"Hello, world!\"\n",
        "\n",
        "- List\n",
        "\n",
        "Definition: A list is an ordered collection of items, which can be of any data type, including other lists. Lists are defined using square brackets ([...]).\n",
        "Mutability: Lists are mutable, meaning you can change their contents (add, remove, or modify elements) after creation.\n",
        "Example: my_list = [7, \"orange\", 3.14, True]"
      ],
      "metadata": {
        "id": "0sXtAZECDky_"
      }
    },
    {
      "source": [
        "my_string = \"Hello\"\n",
        "# my_string[0] = \"J\"  # This would raise an error because strings are immutable\n",
        "\n",
        "my_list = [11, 2, 7]\n",
        "my_list[0] = 3  # This modifies the list in-place\n",
        "print(my_list)"
      ],
      "cell_type": "code",
      "metadata": {
        "id": "_M6way06--rP",
        "colab": {
          "base_uri": "https://localhost:8080/"
        },
        "outputId": "2394a1a3-095e-4fee-d0d4-c547a2c10ecf"
      },
      "execution_count": null,
      "outputs": [
        {
          "output_type": "stream",
          "name": "stdout",
          "text": [
            "[3, 2, 7]\n"
          ]
        }
      ]
    },
    {
      "cell_type": "markdown",
      "source": [
        "7. How do tuples ensure data integrity in Python?\n",
        "- Immutability: The Key to Data Integrity\n",
        "\n",
        "The primary way tuples ensure data integrity is through their immutability. This means that once a tuple is created, its elements cannot be changed, added, or removed.\n",
        "\n",
        "- How Immutability Ensures Data Integrity\n",
        "\n",
        "- Preventing Accidental Modifications: Because tuples are immutable, you can be confident that their contents will not be altered unintentionally. This is crucial when dealing with sensitive data or data that needs to remain consistent throughout your program.\n",
        "\n",
        "- Data Consistency: Immutability guarantees that the data within a tuple remains the same, regardless of how it is used or passed around within your code. This predictable behavior helps maintain data integrity.\n",
        "\n",
        "- Suitable for Hashability: Immutability allows tuples to be used as keys in dictionaries. Dictionaries require keys to be immutable to maintain their internal structure and ensure efficient lookups."
      ],
      "metadata": {
        "id": "YKiJS_GRDmvW"
      }
    },
    {
      "source": [
        "my_tuple = (11, 1, 2003)\n",
        "# my_tuple[0] = 7  # This would raise an error because tuples are immutable\n",
        "my_tuple[0] = 7"
      ],
      "cell_type": "code",
      "metadata": {
        "colab": {
          "base_uri": "https://localhost:8080/",
          "height": 180
        },
        "id": "Njfb7q3QB0DO",
        "outputId": "5f913436-9cd1-4ee6-f1a4-1a3713d68740"
      },
      "execution_count": null,
      "outputs": [
        {
          "output_type": "error",
          "ename": "TypeError",
          "evalue": "'tuple' object does not support item assignment",
          "traceback": [
            "\u001b[0;31m---------------------------------------------------------------------------\u001b[0m",
            "\u001b[0;31mTypeError\u001b[0m                                 Traceback (most recent call last)",
            "\u001b[0;32m<ipython-input-7-af39d7b36268>\u001b[0m in \u001b[0;36m<cell line: 0>\u001b[0;34m()\u001b[0m\n\u001b[1;32m      1\u001b[0m \u001b[0mmy_tuple\u001b[0m \u001b[0;34m=\u001b[0m \u001b[0;34m(\u001b[0m\u001b[0;36m11\u001b[0m\u001b[0;34m,\u001b[0m \u001b[0;36m1\u001b[0m\u001b[0;34m,\u001b[0m \u001b[0;36m2003\u001b[0m\u001b[0;34m)\u001b[0m\u001b[0;34m\u001b[0m\u001b[0;34m\u001b[0m\u001b[0m\n\u001b[1;32m      2\u001b[0m \u001b[0;31m# my_tuple[0] = 7  # This would raise an error because tuples are immutable\u001b[0m\u001b[0;34m\u001b[0m\u001b[0;34m\u001b[0m\u001b[0m\n\u001b[0;32m----> 3\u001b[0;31m \u001b[0mmy_tuple\u001b[0m\u001b[0;34m[\u001b[0m\u001b[0;36m0\u001b[0m\u001b[0;34m]\u001b[0m \u001b[0;34m=\u001b[0m \u001b[0;36m7\u001b[0m\u001b[0;34m\u001b[0m\u001b[0;34m\u001b[0m\u001b[0m\n\u001b[0m",
            "\u001b[0;31mTypeError\u001b[0m: 'tuple' object does not support item assignment"
          ]
        }
      ]
    },
    {
      "cell_type": "markdown",
      "source": [
        "8. What is a hash table, and how does it relate to dictionaries in Python?\n",
        "- What is a Hash Table?\n",
        "\n",
        "A hash table is a data structure that stores data in key-value pairs. It uses a hash function to compute an index (a hash value) into an array of buckets or slots, from which the desired value can be found. This allows for efficient lookups, insertions, and deletions of key-value pairs.\n",
        "\n",
        "- How Hash Tables Relate to Dictionaries in Python\n",
        "\n",
        "Dictionaries in Python are implemented using hash tables. This means that when you create a dictionary, Python internally uses a hash table to store the key-value pairs. This is what allows dictionaries to offer efficient lookups, insertions, and deletions."
      ],
      "metadata": {
        "id": "a2eJhX9QDn-H"
      }
    },
    {
      "cell_type": "markdown",
      "source": [
        "9. Can lists contain different data types in Python?\n",
        "- Yes, lists in Python can contain different data types.\n",
        "\n",
        "- Reasoning:\n",
        "\n",
        "Lists in Python are designed to be heterogeneous, meaning they can store elements of various data types within the same list. This flexibility is a key feature of Python's dynamic typing system.\n"
      ],
      "metadata": {
        "id": "EBErA3ZDDpQn"
      }
    },
    {
      "source": [
        "my_list = [7, \"ajay\", 3.14, False]\n",
        "print(my_list)"
      ],
      "cell_type": "code",
      "metadata": {
        "colab": {
          "base_uri": "https://localhost:8080/"
        },
        "id": "fjCwjWD9Eh3D",
        "outputId": "c54616a9-2303-481f-f5c8-344236f53978"
      },
      "execution_count": null,
      "outputs": [
        {
          "output_type": "stream",
          "name": "stdout",
          "text": [
            "[7, 'ajay', 3.14, False]\n"
          ]
        }
      ]
    },
    {
      "cell_type": "markdown",
      "source": [
        "10. Explain why strings are immutable in Python.\n",
        "- Immutability means that once a string object is created, its value cannot be changed. Any operation that appears to modify a string actually creates a new string object with the modified value, leaving the original string unchanged.\n",
        "\n",
        "- Strings are immutable in Python for security, performance, and to enable their use as dictionary keys (hashing). Immutability ensures data integrity and thread safety."
      ],
      "metadata": {
        "id": "txuh9F5QDtwG"
      }
    },
    {
      "source": [
        "my_string = \"ajay\"\n",
        "new_string = my_string.upper()\n",
        "print(my_string)  # Output: ajay (original string is unchanged)\n",
        "print(new_string)  # Output: AJAY (new string with modified value)"
      ],
      "cell_type": "code",
      "metadata": {
        "colab": {
          "base_uri": "https://localhost:8080/"
        },
        "id": "PW4K26fbG_4q",
        "outputId": "0570ad46-d118-4a31-d70b-3d7b5ce6055b"
      },
      "execution_count": null,
      "outputs": [
        {
          "output_type": "stream",
          "name": "stdout",
          "text": [
            "ajay\n",
            "AJAY\n"
          ]
        }
      ]
    },
    {
      "cell_type": "markdown",
      "source": [
        "11. What advantages do dictionaries offer over lists for certain tasks?\n",
        "- The advantages of dictionaries over lists in Python for specific tasks.\n",
        "\n",
        "- Advantages of Dictionaries:\n",
        "\n",
        "- Efficient Lookup: Dictionaries offer O(1) average time complexity for key lookups, insertions, and deletions. This means that accessing a value using its key is very fast, regardless of the size of the dictionary. Lists, on the other hand, have O(n) time complexity for searching elements, making them less efficient for large datasets.\n",
        "\n",
        "- Key-Value Association: Dictionaries store data as key-value pairs, allowing you to associate a value with a specific key. This is useful for representing structured data, such as records or configurations. Lists only store values sequentially, without any inherent key association.\n",
        "\n",
        "- Data Representation: Dictionaries provide a more flexible and expressive way to represent data than lists. They can be used to create complex data structures, such as nested dictionaries, which are useful for representing hierarchical data.\n",
        "\n",
        "- Readability: Using dictionaries with meaningful keys can improve code readability by clearly indicating the purpose of each value. Lists rely on the order of elements, which can be less intuitive."
      ],
      "metadata": {
        "id": "64qtKxK7DvpK"
      }
    },
    {
      "source": [
        "# Using a dictionary:\n",
        "person = {'name': 'Ajay', 'age': 21, 'city': 'Pune'}\n",
        "print(person['name'])  # Output: Ajay (fast access using key)\n",
        "\n",
        "# Using a list:\n",
        "person_list = ['Ajay', 21, 'Pune']\n",
        "print(person_list[0])  # Output: Ajay (requires knowing index)"
      ],
      "cell_type": "code",
      "metadata": {
        "id": "WtzrOg107293",
        "colab": {
          "base_uri": "https://localhost:8080/"
        },
        "outputId": "9b13a8b0-3aa8-4d4f-9d67-a85919a4d192"
      },
      "execution_count": null,
      "outputs": [
        {
          "output_type": "stream",
          "name": "stdout",
          "text": [
            "Ajay\n",
            "Ajay\n"
          ]
        }
      ]
    },
    {
      "cell_type": "markdown",
      "source": [
        "12. Describe a scenario where using a tuple would be preferable over a list.\n",
        "- here's a scenario where using a tuple would be preferable over a list in Python, along with the reasoning:\n",
        "\n",
        "- Scenario:\n",
        "\n",
        "Imagine you are representing the coordinates of a point in 2D space (x, y). These coordinates are fixed and should not be modified once set.\n",
        "\n",
        "- Reasoning:\n",
        "\n",
        "- Data Integrity: Tuples are immutable, meaning their elements cannot be changed after creation. This ensures that the coordinates of the point remain constant and protected from accidental modifications.\n",
        "\n",
        "- Performance: Tuples are generally slightly more memory-efficient and faster for iteration compared to lists, especially for smaller, fixed-size collections. Since coordinates are typically fixed, tuples offer a slight performance advantage.\n",
        "\n",
        "- Semantic Correctness: Using a tuple conveys the intent that the data represents a fixed entity (a point) and should not be modified. This improves code readability and understanding.\n"
      ],
      "metadata": {
        "id": "Hjakrs98Dw8u"
      }
    },
    {
      "cell_type": "markdown",
      "source": [
        "13. How do sets handle duplicate values in Python?\n",
        "- Sets automatically remove duplicate values.\n",
        "\n",
        "- Reasoning:\n",
        "\n",
        "- Sets are implemented using hash tables: Similar to dictionaries, sets use hash tables to store their elements. Hash tables allow for efficient membership testing and ensure that only unique elements are stored.\n",
        "\n",
        "- When you add a duplicate value to a set: Python calculates the hash value of the element. If an element with the same hash value already exists in the set, Python checks if the elements are equal. If they are equal, the duplicate element is not added to the set."
      ],
      "metadata": {
        "id": "nr8KO0DzDydW"
      }
    },
    {
      "source": [
        "my_set = {1,1, 2, 2, 3, 3, 3, 4, 4, 4, 5, 5, 7, 7, 7}\n",
        "print(my_set)  # Output: {1, 2, 3, 4, 5, 7}"
      ],
      "cell_type": "code",
      "metadata": {
        "colab": {
          "base_uri": "https://localhost:8080/"
        },
        "id": "1cfV25_B-g9E",
        "outputId": "f3726568-35d4-4fc8-ce1c-3d046386930b"
      },
      "execution_count": null,
      "outputs": [
        {
          "output_type": "stream",
          "name": "stdout",
          "text": [
            "{1, 2, 3, 4, 5, 7}\n"
          ]
        }
      ]
    },
    {
      "cell_type": "markdown",
      "source": [
        "14. How does the \"in\" keyword work differently for lists and dictionaries?\n",
        "- how the in keyword works differently for lists and dictionaries in Python:\n",
        "\n",
        "- For Lists:\n",
        "\n",
        "- The in keyword checks for membership in a list. It iterates through each element of the list and returns True if the element is found, otherwise False.\n",
        "\n",
        "- It essentially checks if a given value is present as an element within the list.\n",
        "\n",
        "- For Dictionaries:\n",
        "\n",
        "- The in keyword checks for the presence of a key in a dictionary. It does not check for values.\n",
        "\n",
        "- It essentially checks if a given value exists as a key within the dictionary."
      ],
      "metadata": {
        "id": "BflvGht9D0Ak"
      }
    },
    {
      "source": [
        "#list example:\n",
        "my_list = [1, 2, 3, 4, 5]\n",
        "\n",
        "print(3 in my_list)  # Output: True (3 is an element of the list)\n",
        "print(6 in my_list)  # Output: False (6 is not an element of the list)"
      ],
      "cell_type": "code",
      "metadata": {
        "colab": {
          "base_uri": "https://localhost:8080/"
        },
        "id": "bWDVg8uTALht",
        "outputId": "991cd9c6-f7c4-4f26-ea61-565b419e01b2"
      },
      "execution_count": null,
      "outputs": [
        {
          "output_type": "stream",
          "name": "stdout",
          "text": [
            "True\n",
            "False\n"
          ]
        }
      ]
    },
    {
      "source": [
        "#dictionary example\n",
        "my_dict = {'a': 1, 'b': 2, 'c': 3}\n",
        "\n",
        "print('b' in my_dict)  # Output: True ('b' is a key in the dictionary)\n",
        "print(2 in my_dict)  # Output: False (2 is a value, not a key)\n",
        "print('d' in my_dict)  # Output: False ('d' is not a key in the dictionary)"
      ],
      "cell_type": "code",
      "metadata": {
        "colab": {
          "base_uri": "https://localhost:8080/"
        },
        "id": "7Pofc6s_APcu",
        "outputId": "23d04079-b784-426b-e6aa-1a11dba436b9"
      },
      "execution_count": null,
      "outputs": [
        {
          "output_type": "stream",
          "name": "stdout",
          "text": [
            "True\n",
            "False\n",
            "False\n"
          ]
        }
      ]
    },
    {
      "cell_type": "markdown",
      "source": [
        "15. Can you modify the elements of a tuple? Explain why or why not.\n",
        "- No, you cannot modify the elements of a tuple.\n",
        "\n",
        "- Reasoning:\n",
        "\n",
        "- Tuples are immutable: This fundamental property of tuples means that once a tuple is created, its elements cannot be changed, added, or removed. This immutability is a core design principle of tuples in Python.\n",
        "\n",
        "- Implications of Immutability:\n",
        "\n",
        "- You cannot assign a new value to an element of a tuple using indexing (e.g., my_tuple[0] = 5 would raise a TypeError).\n",
        "\n",
        "- You cannot use methods like append, insert, or remove that are available for lists, as these methods modify the original object.\n",
        "\n",
        "- Why Immutability?\n",
        "\n",
        "- Data Integrity: Immutability ensures that the data within a tuple remains constant and protected from accidental modifications, guaranteeing data integrity.\n",
        "\n",
        "- Hashability: Tuples, being immutable, can be used as keys in dictionaries and elements in sets, as these data structures require hashable (immutable) keys.\n",
        "\n",
        "- Performance: Immutability can offer slight performance benefits in certain scenarios due to optimizations related to data storage and access."
      ],
      "metadata": {
        "id": "0UlQLKXVD1gJ"
      }
    },
    {
      "source": [
        "my_tuple = (1, 2, 3)\n",
        "my_tuple[0] = 5  # This would raise a TypeError: 'tuple' object does not support item assignment"
      ],
      "cell_type": "code",
      "metadata": {
        "colab": {
          "base_uri": "https://localhost:8080/",
          "height": 180
        },
        "id": "Yo3uzT2aCVEy",
        "outputId": "55b2ec43-d48a-4cb9-c6e2-a759fd996f4d"
      },
      "execution_count": null,
      "outputs": [
        {
          "output_type": "error",
          "ename": "TypeError",
          "evalue": "'tuple' object does not support item assignment",
          "traceback": [
            "\u001b[0;31m---------------------------------------------------------------------------\u001b[0m",
            "\u001b[0;31mTypeError\u001b[0m                                 Traceback (most recent call last)",
            "\u001b[0;32m<ipython-input-6-4cf6451307b6>\u001b[0m in \u001b[0;36m<cell line: 0>\u001b[0;34m()\u001b[0m\n\u001b[1;32m      1\u001b[0m \u001b[0mmy_tuple\u001b[0m \u001b[0;34m=\u001b[0m \u001b[0;34m(\u001b[0m\u001b[0;36m1\u001b[0m\u001b[0;34m,\u001b[0m \u001b[0;36m2\u001b[0m\u001b[0;34m,\u001b[0m \u001b[0;36m3\u001b[0m\u001b[0;34m)\u001b[0m\u001b[0;34m\u001b[0m\u001b[0;34m\u001b[0m\u001b[0m\n\u001b[0;32m----> 2\u001b[0;31m \u001b[0mmy_tuple\u001b[0m\u001b[0;34m[\u001b[0m\u001b[0;36m0\u001b[0m\u001b[0;34m]\u001b[0m \u001b[0;34m=\u001b[0m \u001b[0;36m5\u001b[0m  \u001b[0;31m# This would raise a TypeError: 'tuple' object does not support item assignment\u001b[0m\u001b[0;34m\u001b[0m\u001b[0;34m\u001b[0m\u001b[0m\n\u001b[0m",
            "\u001b[0;31mTypeError\u001b[0m: 'tuple' object does not support item assignment"
          ]
        }
      ]
    },
    {
      "cell_type": "markdown",
      "source": [
        "16. What is a nested dictionary, and give an example of its use case?\n",
        "- What is a Nested Dictionary?\n",
        "\n",
        "A nested dictionary is a dictionary where the values are themselves dictionaries. This creates a hierarchical structure where you can store data with multiple levels of organization.\n",
        "\n",
        "- Use Case: Representing Complex Data\n",
        "\n",
        "Nested dictionaries are particularly useful for representing complex data structures where you need to organize information with multiple levels of detail. For instance:\n",
        "\n",
        "- Storing student information: As shown in the example above, you can use a nested dictionary to store data for multiple students, where each student's information is contained in a separate inner dictionary.\n",
        "\n",
        "- Representing hierarchical data: Nested dictionaries can be used to represent hierarchical data, such as file systems or organizational structures.\n",
        "\n",
        "- Storing configuration settings: You can use nested dictionaries to store configuration settings for an application, where different sections of the configuration are represented by inner dictionaries."
      ],
      "metadata": {
        "id": "CErTKy0qKYCh"
      }
    },
    {
      "source": [
        "student_data = {\n",
        "    'student1': {'name': 'Ajay', 'age': 20, 'major': 'Computer Science'},\n",
        "    'student2': {'name': 'Aryan', 'age': 22, 'major': 'Physics'},\n",
        "    'student3': {'name': 'Vijay', 'age': 21, 'major': 'Mathematics'}\n",
        "}"
      ],
      "cell_type": "code",
      "metadata": {
        "id": "UlOquHntDuat"
      },
      "execution_count": null,
      "outputs": []
    },
    {
      "source": [
        "student_name = student_data['student1']['name']  # Accessing Ajay's name\n",
        "student_age = student_data['student2']['age']    # Accessing Aryan's age"
      ],
      "cell_type": "code",
      "metadata": {
        "id": "8VpvVVvMDveQ"
      },
      "execution_count": null,
      "outputs": []
    },
    {
      "cell_type": "markdown",
      "source": [
        "17. Describe the time complexity of accessing elements in a dictionary.\n",
        "- Time Complexity: Average Case - O(1), Worst Case - O(n)\n",
        "\n",
        "- Average Case: O(1) - Constant Time\n",
        "\n",
        "- In most cases, accessing an element in a dictionary using its key takes constant time, denoted as O(1). This means that the time required to access an element is independent of the size of the dictionary.\n",
        "\n",
        "- This efficiency is achieved through the use of hash tables, which allow for direct access to elements based on their hash values.\n",
        "\n",
        "- Worst Case: O(n) - Linear Time\n",
        "\n",
        "- In rare cases, if there are collisions in the hash table (multiple keys having the same hash value), the time complexity can degrade to O(n), where n is the number of elements in the dictionary.\n",
        "\n",
        "- However, Python's dictionary implementation employs techniques to minimize collisions, making the worst-case scenario unlikely in practice.\n"
      ],
      "metadata": {
        "id": "eqlqWp_gKfve"
      }
    },
    {
      "cell_type": "markdown",
      "source": [
        "18. In what situations are lists preferred over dictionaries?\n",
        "- Lists are preferred over dictionaries when the order of elements is crucial, duplicate elements are allowed, or when you need to access elements by their index. Choose the data structure that best fits the specific requirements of your task."
      ],
      "metadata": {
        "id": "umK3a8aIKjgf"
      }
    },
    {
      "source": [
        "tasks = ['buy groceries', 'pay bills', 'book appointment']  # Ordered list of tasks"
      ],
      "cell_type": "code",
      "metadata": {
        "id": "-Yx4T-NrGXFA"
      },
      "execution_count": null,
      "outputs": []
    },
    {
      "cell_type": "markdown",
      "source": [
        "19. Why are dictionaries considered unordered, and how does that affect data retrieval?\n",
        "- Dictionaries are considered unordered because their primary focus is on efficient key-based lookups, not on preserving insertion order. This means that data retrieval is done using keys, and the order of elements is not guaranteed. However, Python provides methods to handle ordered retrieval if needed.\n",
        "\n"
      ],
      "metadata": {
        "id": "SC82bvGvKlHu"
      }
    },
    {
      "source": [
        "my_dict = {'grapes': 1, 'papaya': 2, 'pineapple': 3}\n",
        "\n",
        "for key in my_dict:\n",
        "    print(key, my_dict[key])"
      ],
      "cell_type": "code",
      "metadata": {
        "colab": {
          "base_uri": "https://localhost:8080/"
        },
        "id": "cpHR3-IvHG27",
        "outputId": "0f17357a-3763-4c2a-c760-78aa1c371082"
      },
      "execution_count": null,
      "outputs": [
        {
          "output_type": "stream",
          "name": "stdout",
          "text": [
            "grapes 1\n",
            "papaya 2\n",
            "pineapple 3\n"
          ]
        }
      ]
    },
    {
      "cell_type": "markdown",
      "source": [
        "20. Explain the difference between a list and a dictionary in terms of data retrieval.\n",
        "- Lists are suitable for data retrieval by index when order is important, while dictionaries are ideal for key-based lookups when efficient retrieval using unique identifiers is crucial. Choose the data structure that best fits your specific data retrieval needs."
      ],
      "metadata": {
        "id": "DOTSiK2lKmO0"
      }
    },
    {
      "source": [
        "# List\n",
        "my_list = ['orange', 'guava', 'apple']\n",
        "print(my_list[1])  # Output: guava (accessing by index)\n",
        "\n",
        "# Dictionary\n",
        "my_dict = {'orange': 1, 'guava': 2, 'apple': 3}\n",
        "print(my_dict['guava'])  # Output: 2 (accessing by key)"
      ],
      "cell_type": "code",
      "metadata": {
        "colab": {
          "base_uri": "https://localhost:8080/"
        },
        "id": "cTNNFPcpIghJ",
        "outputId": "42bf0a30-b8a9-4481-d4c4-03e1ba2e03ec"
      },
      "execution_count": null,
      "outputs": [
        {
          "output_type": "stream",
          "name": "stdout",
          "text": [
            "guava\n",
            "2\n"
          ]
        }
      ]
    },
    {
      "cell_type": "markdown",
      "source": [
        "Practical Questions"
      ],
      "metadata": {
        "id": "tBdksAwYJSiq"
      }
    },
    {
      "cell_type": "markdown",
      "source": [
        "1. Write a code to create a string with your name and print it."
      ],
      "metadata": {
        "id": "1G8Edr76JjBc"
      }
    },
    {
      "source": [
        "my_name = \"Ajay\"  # Assigning the string \"Ajay\" to the variable my_name\n",
        "print(my_name)  # Printing the value of the variable my_name"
      ],
      "cell_type": "code",
      "metadata": {
        "colab": {
          "base_uri": "https://localhost:8080/"
        },
        "id": "hd5f3bBNiV0B",
        "outputId": "6543b36d-c2ef-445f-cce4-0a1a76bdaf55"
      },
      "execution_count": null,
      "outputs": [
        {
          "output_type": "stream",
          "name": "stdout",
          "text": [
            "Ajay\n"
          ]
        }
      ]
    },
    {
      "cell_type": "markdown",
      "source": [
        "2. Write a code to find the length of the string \"Hello World\"."
      ],
      "metadata": {
        "id": "f9Bx9dVDJ_DX"
      }
    },
    {
      "source": [
        "string = \"Hello World\"\n",
        "length = len(string)\n",
        "print(length)"
      ],
      "cell_type": "code",
      "metadata": {
        "colab": {
          "base_uri": "https://localhost:8080/"
        },
        "id": "hn1ybZIVisiM",
        "outputId": "7cb561e2-6e43-4551-fea7-a12878dabbea"
      },
      "execution_count": null,
      "outputs": [
        {
          "output_type": "stream",
          "name": "stdout",
          "text": [
            "11\n"
          ]
        }
      ]
    },
    {
      "cell_type": "markdown",
      "source": [
        "3. Write a code to slice the first 3 characters from the string \"Python Programming\"."
      ],
      "metadata": {
        "id": "7w02D2JyKJd3"
      }
    },
    {
      "source": [
        "string = \"Python Programming\"\n",
        "sliced_string = string[:3]  # Slicing the string from index 0 to 3 (exclusive)\n",
        "print(sliced_string)"
      ],
      "cell_type": "code",
      "metadata": {
        "colab": {
          "base_uri": "https://localhost:8080/"
        },
        "id": "Ma49v75Ii6lH",
        "outputId": "09682949-7601-4414-f73b-aab0fdc21f6d"
      },
      "execution_count": null,
      "outputs": [
        {
          "output_type": "stream",
          "name": "stdout",
          "text": [
            "Pyt\n"
          ]
        }
      ]
    },
    {
      "cell_type": "markdown",
      "source": [
        "4. Write a code to convert the string \"hello\" to uppercase."
      ],
      "metadata": {
        "id": "ap-aRIyTKQ8P"
      }
    },
    {
      "source": [
        "string = \"hello\"\n",
        "uppercase_string = string.upper()\n",
        "print(uppercase_string)"
      ],
      "cell_type": "code",
      "metadata": {
        "colab": {
          "base_uri": "https://localhost:8080/"
        },
        "id": "ftncT8yUjMCy",
        "outputId": "56cbabde-24c3-44a8-867e-5178d22f5597"
      },
      "execution_count": null,
      "outputs": [
        {
          "output_type": "stream",
          "name": "stdout",
          "text": [
            "HELLO\n"
          ]
        }
      ]
    },
    {
      "cell_type": "markdown",
      "source": [
        "5. Write a code to replace the word \"apple\" with \"orange\" in the string \"I like apple\"."
      ],
      "metadata": {
        "id": "-uSZxEAXKVht"
      }
    },
    {
      "source": [
        "string = \"I like apple\"\n",
        "new_string = string.replace(\"apple\", \"orange\")\n",
        "print(new_string)"
      ],
      "cell_type": "code",
      "metadata": {
        "colab": {
          "base_uri": "https://localhost:8080/"
        },
        "id": "ed5FOxDwjcLj",
        "outputId": "75becbdd-3d0d-49f3-8520-9276d7c19b27"
      },
      "execution_count": null,
      "outputs": [
        {
          "output_type": "stream",
          "name": "stdout",
          "text": [
            "I like orange\n"
          ]
        }
      ]
    },
    {
      "cell_type": "markdown",
      "source": [
        "6. Write a code to create a list with numbers 1 to 5 and print it."
      ],
      "metadata": {
        "id": "CdM5f7aTKbpk"
      }
    },
    {
      "source": [
        "my_list = [1, 2, 3, 4, 5]  # Creating the list\n",
        "print(my_list)  # Printing the list"
      ],
      "cell_type": "code",
      "metadata": {
        "colab": {
          "base_uri": "https://localhost:8080/"
        },
        "id": "3xCRN4qSkDOo",
        "outputId": "5c9c900d-1515-4c3f-a1f1-2b61053d83bd"
      },
      "execution_count": null,
      "outputs": [
        {
          "output_type": "stream",
          "name": "stdout",
          "text": [
            "[1, 2, 3, 4, 5]\n"
          ]
        }
      ]
    },
    {
      "cell_type": "markdown",
      "source": [
        "7. Write a code to append the number 10 to the list [1, 2, 3, 4]."
      ],
      "metadata": {
        "id": "IpmssymIKtM1"
      }
    },
    {
      "source": [
        "my_list = [1, 2, 3, 4]\n",
        "my_list.append(10)\n",
        "print(my_list)"
      ],
      "cell_type": "code",
      "metadata": {
        "colab": {
          "base_uri": "https://localhost:8080/"
        },
        "id": "YEZnt6tmkRZw",
        "outputId": "e29fb553-bb37-494f-d45f-165f7f6432db"
      },
      "execution_count": null,
      "outputs": [
        {
          "output_type": "stream",
          "name": "stdout",
          "text": [
            "[1, 2, 3, 4, 10]\n"
          ]
        }
      ]
    },
    {
      "cell_type": "markdown",
      "source": [
        "8. Write a code to remove the number 3 from the list [1, 2, 3, 4, 5]."
      ],
      "metadata": {
        "id": "Z-q9rQNbK3v-"
      }
    },
    {
      "source": [
        "my_list = [1, 2, 3, 4, 5]\n",
        "my_list.remove(3)\n",
        "print(my_list)"
      ],
      "cell_type": "code",
      "metadata": {
        "colab": {
          "base_uri": "https://localhost:8080/"
        },
        "id": "6f-RX9Bskcf2",
        "outputId": "683152f5-451b-4d88-a65c-dde72ca0b87d"
      },
      "execution_count": null,
      "outputs": [
        {
          "output_type": "stream",
          "name": "stdout",
          "text": [
            "[1, 2, 4, 5]\n"
          ]
        }
      ]
    },
    {
      "cell_type": "markdown",
      "source": [
        "9. Write a code to access the second element in the list ['a', 'b', 'c', 'd']."
      ],
      "metadata": {
        "id": "1YeD8TIEK_-6"
      }
    },
    {
      "source": [
        "my_list = ['a', 'b', 'c', 'd']\n",
        "second_element = my_list[1]  # Accessing the element at index 1\n",
        "print(second_element)"
      ],
      "cell_type": "code",
      "metadata": {
        "colab": {
          "base_uri": "https://localhost:8080/"
        },
        "id": "KLA0SyG6krz2",
        "outputId": "e705ef50-bae5-4cd0-c1cc-1a195e6550f0"
      },
      "execution_count": null,
      "outputs": [
        {
          "output_type": "stream",
          "name": "stdout",
          "text": [
            "b\n"
          ]
        }
      ]
    },
    {
      "cell_type": "markdown",
      "source": [
        "10. Write a code to reverse the list [10, 20, 30, 40, 50]."
      ],
      "metadata": {
        "id": "nnpMiOHaLMkE"
      }
    },
    {
      "source": [
        "my_list = [10, 20, 30, 40, 50]\n",
        "my_list.reverse()\n",
        "print(my_list)"
      ],
      "cell_type": "code",
      "metadata": {
        "colab": {
          "base_uri": "https://localhost:8080/"
        },
        "id": "JmVOI1Vik8Ss",
        "outputId": "bb406b3f-68ca-4ed8-8331-072c65fe067e"
      },
      "execution_count": null,
      "outputs": [
        {
          "output_type": "stream",
          "name": "stdout",
          "text": [
            "[50, 40, 30, 20, 10]\n"
          ]
        }
      ]
    },
    {
      "cell_type": "markdown",
      "source": [
        "11. Write a code to create a tuple with the elements 100, 200, 300 and print it."
      ],
      "metadata": {
        "id": "WAVqlVzwlF2o"
      }
    },
    {
      "source": [
        "my_tuple = (100, 200, 300)  # Creating the tuple\n",
        "print(my_tuple)  # Printing the tuple"
      ],
      "cell_type": "code",
      "metadata": {
        "colab": {
          "base_uri": "https://localhost:8080/"
        },
        "id": "OBxlG_tkusLv",
        "outputId": "58385894-7e49-4435-f14f-bb25f441e99d"
      },
      "execution_count": null,
      "outputs": [
        {
          "output_type": "stream",
          "name": "stdout",
          "text": [
            "(100, 200, 300)\n"
          ]
        }
      ]
    },
    {
      "cell_type": "markdown",
      "source": [
        "12. Write a code to access the second-to-last element of the tuple (red', 'green', 'blue', 'yellow')."
      ],
      "metadata": {
        "id": "OmYUiYmIleR_"
      }
    },
    {
      "source": [
        "my_tuple = ('red', 'green', 'blue', 'yellow')\n",
        "second_to_last_element = my_tuple[-2]  # Accessing using negative indexing\n",
        "print(second_to_last_element)"
      ],
      "cell_type": "code",
      "metadata": {
        "colab": {
          "base_uri": "https://localhost:8080/"
        },
        "id": "gStaSG5XvLku",
        "outputId": "9130756c-396e-453e-b880-8f7c3890b24f"
      },
      "execution_count": null,
      "outputs": [
        {
          "output_type": "stream",
          "name": "stdout",
          "text": [
            "blue\n"
          ]
        }
      ]
    },
    {
      "cell_type": "markdown",
      "source": [
        "13. Write a code to find the minimum number in the tuple (10, 20, 5, 15)."
      ],
      "metadata": {
        "id": "Te73KIFLllHO"
      }
    },
    {
      "source": [
        "my_tuple = (10, 20, 5, 15)\n",
        "minimum_number = min(my_tuple)\n",
        "print(minimum_number)"
      ],
      "cell_type": "code",
      "metadata": {
        "colab": {
          "base_uri": "https://localhost:8080/"
        },
        "id": "KSt5qgm5vrvC",
        "outputId": "07411cca-adb8-4cff-ed63-2fc5434bc8ae"
      },
      "execution_count": null,
      "outputs": [
        {
          "output_type": "stream",
          "name": "stdout",
          "text": [
            "5\n"
          ]
        }
      ]
    },
    {
      "cell_type": "markdown",
      "source": [
        "14. Write a code to find the index of the element \"cat\" in the tuple ('dog', 'cat', 'rabbit')."
      ],
      "metadata": {
        "id": "kkAWC6RPlw4C"
      }
    },
    {
      "source": [
        "my_tuple = ('dog', 'cat', 'rabbit')\n",
        "index = my_tuple.index('cat')\n",
        "print(index)"
      ],
      "cell_type": "code",
      "metadata": {
        "colab": {
          "base_uri": "https://localhost:8080/"
        },
        "id": "M91J7TwGv4aI",
        "outputId": "78269f05-8755-40d1-89ff-72c807c0ae6f"
      },
      "execution_count": null,
      "outputs": [
        {
          "output_type": "stream",
          "name": "stdout",
          "text": [
            "1\n"
          ]
        }
      ]
    },
    {
      "cell_type": "markdown",
      "source": [
        "15. Write a code to create a tuple containing three different fruits and check if \"kiwi\" is in it."
      ],
      "metadata": {
        "id": "p-dDCFyll4tH"
      }
    },
    {
      "source": [
        "fruits_tuple = (\"pineapple\", \"grapes\", \"orange\")  # Create a tuple of fruits\n",
        "\n",
        "if \"kiwi\" in fruits_tuple:\n",
        "    print(\"Kiwi is in the tuple\")\n",
        "else:\n",
        "    print(\"Kiwi is not in the tuple\")"
      ],
      "cell_type": "code",
      "metadata": {
        "colab": {
          "base_uri": "https://localhost:8080/"
        },
        "id": "Kv49B8x5wTHH",
        "outputId": "3a6ae75d-16a2-4c8b-8c00-bdf9378bd43f"
      },
      "execution_count": null,
      "outputs": [
        {
          "output_type": "stream",
          "name": "stdout",
          "text": [
            "Kiwi is not in the tuple\n"
          ]
        }
      ]
    },
    {
      "cell_type": "markdown",
      "source": [
        "16. Write a code to create a set with the elements 'a', 'b', 'c' and print it."
      ],
      "metadata": {
        "id": "9mg2bJALmCCt"
      }
    },
    {
      "source": [
        "my_set = {'a', 'b', 'c'}\n",
        "print(my_set)"
      ],
      "cell_type": "code",
      "metadata": {
        "colab": {
          "base_uri": "https://localhost:8080/"
        },
        "id": "nhz8SnAtw8FE",
        "outputId": "869c2c3f-a16c-42eb-9d50-6dcd0f8b271f"
      },
      "execution_count": null,
      "outputs": [
        {
          "output_type": "stream",
          "name": "stdout",
          "text": [
            "{'c', 'a', 'b'}\n"
          ]
        }
      ]
    },
    {
      "cell_type": "markdown",
      "source": [
        "17. Write a code to clear all elements from the set {l, 2, 3, 4, 5}."
      ],
      "metadata": {
        "id": "dgcE_tt3mLV0"
      }
    },
    {
      "source": [
        "my_set = {1, 2, 3, 4, 5}\n",
        "my_set.clear()\n",
        "print(my_set)"
      ],
      "cell_type": "code",
      "metadata": {
        "colab": {
          "base_uri": "https://localhost:8080/"
        },
        "id": "oKP81KWzxsYD",
        "outputId": "2327e751-5dfd-4d3c-c346-275f2a8a5451"
      },
      "execution_count": null,
      "outputs": [
        {
          "output_type": "stream",
          "name": "stdout",
          "text": [
            "set()\n"
          ]
        }
      ]
    },
    {
      "cell_type": "markdown",
      "source": [
        "18. Write a code to remove the element 4 from the set {1, 2, 3, 4}."
      ],
      "metadata": {
        "id": "ctwL0lsDmVaj"
      }
    },
    {
      "source": [
        "my_set = {1, 2, 3, 4}\n",
        "my_set.remove(4)\n",
        "print(my_set)"
      ],
      "cell_type": "code",
      "metadata": {
        "colab": {
          "base_uri": "https://localhost:8080/"
        },
        "id": "HIpu4mZDx6xb",
        "outputId": "19031778-9261-4b15-d1e7-9c8459602c85"
      },
      "execution_count": null,
      "outputs": [
        {
          "output_type": "stream",
          "name": "stdout",
          "text": [
            "{1, 2, 3}\n"
          ]
        }
      ]
    },
    {
      "cell_type": "markdown",
      "source": [
        "19. Write a code to find the union of two sets {1, 2, 3} and {3, 4, 5}."
      ],
      "metadata": {
        "id": "4c6lB__-meid"
      }
    },
    {
      "source": [
        "set1 = {1, 2, 3}\n",
        "set2 = {3, 4, 5}\n",
        "\n",
        "union_set = set1.union(set2)  # or union_set = set1 | set2\n",
        "\n",
        "print(union_set)"
      ],
      "cell_type": "code",
      "metadata": {
        "colab": {
          "base_uri": "https://localhost:8080/"
        },
        "id": "z_UoOSYxyKnO",
        "outputId": "5cbe3e4f-a1b2-4c3f-d34f-3378cf24f875"
      },
      "execution_count": null,
      "outputs": [
        {
          "output_type": "stream",
          "name": "stdout",
          "text": [
            "{1, 2, 3, 4, 5}\n"
          ]
        }
      ]
    },
    {
      "cell_type": "markdown",
      "source": [
        "20. Write a code to find the intersection of two sets {1, 2, 3} and {2, 3, 4}."
      ],
      "metadata": {
        "id": "1gsuGCR8mnIs"
      }
    },
    {
      "source": [
        "set1 = {1, 2, 3}\n",
        "set2 = {2, 3, 4}\n",
        "\n",
        "intersection_set = set1.intersection(set2)  # or intersection_set = set1 & set2\n",
        "\n",
        "print(intersection_set)"
      ],
      "cell_type": "code",
      "metadata": {
        "colab": {
          "base_uri": "https://localhost:8080/"
        },
        "id": "ENBVJDanyhBl",
        "outputId": "a28e5b78-487c-46be-ec36-64c0335a69c7"
      },
      "execution_count": null,
      "outputs": [
        {
          "output_type": "stream",
          "name": "stdout",
          "text": [
            "{2, 3}\n"
          ]
        }
      ]
    },
    {
      "cell_type": "markdown",
      "source": [
        "21. Write a code to create a dictionary with the keys \"name\", \"age\", and \"city\", and print it."
      ],
      "metadata": {
        "id": "VNMSY-JcmvGA"
      }
    },
    {
      "source": [
        "my_dict = {\"name\": \"Ajay\", \"age\": 21, \"city\": \"Mumbai\"}\n",
        "print(my_dict)"
      ],
      "cell_type": "code",
      "metadata": {
        "colab": {
          "base_uri": "https://localhost:8080/"
        },
        "id": "gvmNOrBAyz96",
        "outputId": "9277ff59-c3c8-4779-f6dd-fb5091ac23d8"
      },
      "execution_count": null,
      "outputs": [
        {
          "output_type": "stream",
          "name": "stdout",
          "text": [
            "{'name': 'Ajay', 'age': 21, 'city': 'Mumbai'}\n"
          ]
        }
      ]
    },
    {
      "cell_type": "markdown",
      "source": [
        "22. Write a code to add a new key-value pair \"country\": \"USA\" to the dictionary {'name: 'John', 'age: 25}."
      ],
      "metadata": {
        "id": "_nddVHbom0AZ"
      }
    },
    {
      "source": [
        "my_dict = {'name': 'John', 'age': 25}\n",
        "my_dict['country'] = \"USA\"\n",
        "print(my_dict)"
      ],
      "cell_type": "code",
      "metadata": {
        "colab": {
          "base_uri": "https://localhost:8080/"
        },
        "id": "Q5BeK5aZzLzY",
        "outputId": "3de3cb47-5258-422e-8dfb-5988019aa3cd"
      },
      "execution_count": null,
      "outputs": [
        {
          "output_type": "stream",
          "name": "stdout",
          "text": [
            "{'name': 'John', 'age': 25, 'country': 'USA'}\n"
          ]
        }
      ]
    },
    {
      "cell_type": "markdown",
      "source": [
        "23. Write a code to access the value associated with the key \"name\" in the dictionary {'name': 'Alice, 'age: 30}."
      ],
      "metadata": {
        "id": "RBS2cd_1nChR"
      }
    },
    {
      "source": [
        "my_dict = {'name': 'Alice', 'age': 30}\n",
        "name_value = my_dict['name']\n",
        "print(name_value)"
      ],
      "cell_type": "code",
      "metadata": {
        "colab": {
          "base_uri": "https://localhost:8080/"
        },
        "id": "yhazeZPKzdYN",
        "outputId": "9c0f3b4b-9f6b-4d9f-9d0e-e8ad4e702c46"
      },
      "execution_count": null,
      "outputs": [
        {
          "output_type": "stream",
          "name": "stdout",
          "text": [
            "Alice\n"
          ]
        }
      ]
    },
    {
      "cell_type": "markdown",
      "source": [
        "24. Write a code to remove the key \"age\" from the dictionary {'name: 'Bob', 'age: 22, 'City: 'New York'}."
      ],
      "metadata": {
        "id": "u9YkeeprnIKe"
      }
    },
    {
      "source": [
        "my_dict = {'name': 'Bob', 'age': 22, 'city': 'New York'}\n",
        "del my_dict['age']\n",
        "print(my_dict)"
      ],
      "cell_type": "code",
      "metadata": {
        "colab": {
          "base_uri": "https://localhost:8080/"
        },
        "id": "q3ifUF-Nzrxv",
        "outputId": "b6d2d14e-cc02-4dd3-abe8-36daa38841ef"
      },
      "execution_count": null,
      "outputs": [
        {
          "output_type": "stream",
          "name": "stdout",
          "text": [
            "{'name': 'Bob', 'city': 'New York'}\n"
          ]
        }
      ]
    },
    {
      "cell_type": "markdown",
      "source": [
        "25. Write a code to check if the key \"city\" exists in the dictionary {'name': 'Alice', 'city: 'Paris\"}."
      ],
      "metadata": {
        "id": "GGLtr-StnUyS"
      }
    },
    {
      "source": [
        "my_dict = {'name': 'Alice', 'city': 'Paris'}\n",
        "\n",
        "if 'city' in my_dict:\n",
        "    print(\"The key 'city' exists in the dictionary\")\n",
        "else:\n",
        "    print(\"The key 'city' does not exist in the dictionary\")"
      ],
      "cell_type": "code",
      "metadata": {
        "colab": {
          "base_uri": "https://localhost:8080/"
        },
        "id": "HhFTrgA8z5Dl",
        "outputId": "0f37dad1-0c01-4fa9-9249-54a4f20c31a4"
      },
      "execution_count": null,
      "outputs": [
        {
          "output_type": "stream",
          "name": "stdout",
          "text": [
            "The key 'city' exists in the dictionary\n"
          ]
        }
      ]
    },
    {
      "cell_type": "markdown",
      "source": [
        "26. Write a code to create a list, a tuple, and a dictionary, and print them all."
      ],
      "metadata": {
        "id": "7FTWACtQngOD"
      }
    },
    {
      "source": [
        "# Create a list\n",
        "my_list = [11, 1, 7, \"apple\", \"orange\"]\n",
        "\n",
        "# Create a tuple\n",
        "my_tuple = (5, 10, 20, \"kiwi\", \"grapes\")\n",
        "\n",
        "# Create a dictionary\n",
        "my_dict = {\"name\": \"Ajay\", \"age\": 21, \"city\": \"Pune\"}\n",
        "\n",
        "# Print all three data structures\n",
        "print(\"List:\", my_list)\n",
        "print(\"Tuple:\", my_tuple)\n",
        "print(\"Dictionary:\", my_dict)"
      ],
      "cell_type": "code",
      "metadata": {
        "colab": {
          "base_uri": "https://localhost:8080/"
        },
        "id": "ii0P-7N20UBi",
        "outputId": "9eaa470a-a06c-4b12-e575-46d3eab52970"
      },
      "execution_count": null,
      "outputs": [
        {
          "output_type": "stream",
          "name": "stdout",
          "text": [
            "List: [11, 1, 7, 'apple', 'orange']\n",
            "Tuple: (5, 10, 20, 'kiwi', 'grapes')\n",
            "Dictionary: {'name': 'Ajay', 'age': 21, 'city': 'Pune'}\n"
          ]
        }
      ]
    },
    {
      "cell_type": "markdown",
      "source": [
        "27. Write a code to create a list of 5 random numbers between 1 and 100, sort it in ascending order, and print the result. (replaced)"
      ],
      "metadata": {
        "id": "CU3N3MtTnpn0"
      }
    },
    {
      "source": [
        "import random\n",
        "\n",
        "# Generate 5 random numbers between 1 and 100\n",
        "random_numbers = [random.randint(1, 100) for _ in range(5)]\n",
        "\n",
        "# Sort the list in ascending order\n",
        "random_numbers.sort()\n",
        "\n",
        "# Print the sorted list\n",
        "print(random_numbers)"
      ],
      "cell_type": "code",
      "metadata": {
        "colab": {
          "base_uri": "https://localhost:8080/"
        },
        "id": "wysBn_tO1Wc5",
        "outputId": "e9b0aa08-089e-4a17-ff25-c8b1d97565ff"
      },
      "execution_count": null,
      "outputs": [
        {
          "output_type": "stream",
          "name": "stdout",
          "text": [
            "[45, 63, 71, 75, 78]\n"
          ]
        }
      ]
    },
    {
      "cell_type": "markdown",
      "source": [
        "28. Write a code to create a list with strings and print the element at the third index."
      ],
      "metadata": {
        "id": "9xSp20j5n1fw"
      }
    },
    {
      "source": [
        "my_list = [\"apple\", \"banana\", \"orange\", \"grape\", \"kiwi\"]\n",
        "third_element = my_list[2]  # Accessing element at index 2 (third element)\n",
        "print(third_element)"
      ],
      "cell_type": "code",
      "metadata": {
        "colab": {
          "base_uri": "https://localhost:8080/"
        },
        "id": "jeylg6F_15XN",
        "outputId": "274ced8c-e2ee-4182-e4c3-e361f03865d8"
      },
      "execution_count": null,
      "outputs": [
        {
          "output_type": "stream",
          "name": "stdout",
          "text": [
            "orange\n"
          ]
        }
      ]
    },
    {
      "cell_type": "markdown",
      "source": [
        "29. Write a code to combine two dictionaries into one and print the result."
      ],
      "metadata": {
        "id": "GePmLoxNoKAu"
      }
    },
    {
      "source": [
        "dict1 = {'a': 2, 'b': 4}\n",
        "dict2 = {'c': 6, 'd': 8}\n",
        "\n",
        "combined_dict = dict1.copy()  # Create a copy of dict1\n",
        "combined_dict.update(dict2)   # Update the copy with dict2\n",
        "\n",
        "print(combined_dict)"
      ],
      "cell_type": "code",
      "metadata": {
        "colab": {
          "base_uri": "https://localhost:8080/"
        },
        "id": "nZqbbqFu2I9r",
        "outputId": "335194de-c1c4-4620-e881-ff8064613919"
      },
      "execution_count": null,
      "outputs": [
        {
          "output_type": "stream",
          "name": "stdout",
          "text": [
            "{'a': 2, 'b': 4, 'c': 6, 'd': 8}\n"
          ]
        }
      ]
    },
    {
      "cell_type": "markdown",
      "source": [
        "30. Write a code to convert a list of strings into a set."
      ],
      "metadata": {
        "id": "zmDaq397oRR2"
      }
    },
    {
      "source": [
        "my_list = [\"apple\", \"banana\", \"orange\", \"banana\", \"orange\", \"apple\"]\n",
        "my_set = set(my_list)\n",
        "print(my_set)"
      ],
      "cell_type": "code",
      "metadata": {
        "colab": {
          "base_uri": "https://localhost:8080/"
        },
        "id": "kM_Qsc_p2ehF",
        "outputId": "d4b2f716-1e9e-414e-8059-d070c5fabcb9"
      },
      "execution_count": null,
      "outputs": [
        {
          "output_type": "stream",
          "name": "stdout",
          "text": [
            "{'apple', 'banana', 'orange'}\n"
          ]
        }
      ]
    },
    {
      "cell_type": "markdown",
      "source": [],
      "metadata": {
        "id": "IHjre2rHoauC"
      }
    }
  ]
}